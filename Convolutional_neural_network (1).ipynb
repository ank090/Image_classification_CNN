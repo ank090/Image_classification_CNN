{
 "cells": [
  {
   "cell_type": "markdown",
   "metadata": {
    "id": "j1py2c6pvEZ5"
   },
   "source": [
    "importing libraries"
   ]
  },
  {
   "cell_type": "code",
   "execution_count": null,
   "metadata": {},
   "outputs": [],
   "source": []
  },
  {
   "cell_type": "code",
   "execution_count": 1,
   "metadata": {
    "id": "1amItNX6vEBG"
   },
   "outputs": [],
   "source": [
    "import tensorflow as tf\n",
    "from keras.preprocessing.image import ImageDataGenerator\n",
    "from keras.preprocessing import image\n",
    "import numpy as np\n"
   ]
  },
  {
   "cell_type": "markdown",
   "metadata": {
    "id": "WnbjCqMzxwD2"
   },
   "source": [
    "# Preprocessing data"
   ]
  },
  {
   "cell_type": "markdown",
   "metadata": {
    "id": "JPKNaTVfx18l"
   },
   "source": [
    "preprocess training data"
   ]
  },
  {
   "cell_type": "code",
   "execution_count": 2,
   "metadata": {
    "id": "Ltw0ThvLxvwm"
   },
   "outputs": [
    {
     "name": "stdout",
     "output_type": "stream",
     "text": [
      "Found 8000 images belonging to 2 classes.\n"
     ]
    }
   ],
   "source": [
    "#diversify the data to avoid overfitting\n",
    "train_datagen=ImageDataGenerator(\n",
    "    rescale=1/255,\n",
    "    shear_range=0.2,\n",
    "    zoom_range=0.2,\n",
    "    horizontal_flip=True\n",
    ")\n",
    "training_set=train_datagen.flow_from_directory(\n",
    "    'dataset/training_set',\n",
    "    target_size=(64,64),\n",
    "    batch_size=32,\n",
    "    class_mode='binary'\n",
    ")\n"
   ]
  },
  {
   "cell_type": "markdown",
   "metadata": {
    "id": "4dvPYbeH5w0X"
   },
   "source": [
    "Preprocessing testset"
   ]
  },
  {
   "cell_type": "code",
   "execution_count": 4,
   "metadata": {
    "id": "gYWfcIG71thq"
   },
   "outputs": [
    {
     "name": "stdout",
     "output_type": "stream",
     "text": [
      "Found 2000 images belonging to 2 classes.\n"
     ]
    }
   ],
   "source": [
    "test_datagen=ImageDataGenerator( #only rescaling as test data needs to remain as they are to avoid overfitting\n",
    "    rescale=1/255\n",
    ")\n",
    "test_set=train_datagen.flow_from_directory(\n",
    "    'dataset/test_set',\n",
    "    target_size=(64,64),\n",
    "    batch_size=32,\n",
    "    class_mode='binary')"
   ]
  },
  {
   "cell_type": "markdown",
   "metadata": {
    "id": "ADe2_1nD6Yte"
   },
   "source": [
    "# Creating CNN"
   ]
  },
  {
   "cell_type": "markdown",
   "metadata": {
    "id": "P35UzzGk6tVe"
   },
   "source": [
    "initialise CNN"
   ]
  },
  {
   "cell_type": "code",
   "execution_count": 5,
   "metadata": {
    "id": "BjyB7JP71ulU"
   },
   "outputs": [],
   "source": [
    "cnn=tf.keras.models.Sequential()"
   ]
  },
  {
   "cell_type": "markdown",
   "metadata": {
    "id": "Ul6wxcKW6-tJ"
   },
   "source": [
    "1. convolutional layer"
   ]
  },
  {
   "cell_type": "code",
   "execution_count": 6,
   "metadata": {
    "id": "vp7k5op96-er"
   },
   "outputs": [],
   "source": [
    "cnn.add(tf.keras.layers.Conv2D(filters=32,kernel_size=3,activation='relu',input_shape=[64,64,3]))"
   ]
  },
  {
   "cell_type": "markdown",
   "metadata": {
    "id": "IQ7UTRh-8R-S"
   },
   "source": [
    "2. Pooling"
   ]
  },
  {
   "cell_type": "code",
   "execution_count": 7,
   "metadata": {
    "id": "2BErZ8Jw8QR2"
   },
   "outputs": [],
   "source": [
    "cnn.add(tf.keras.layers.MaxPool2D(pool_size=2,strides=2))"
   ]
  },
  {
   "cell_type": "markdown",
   "metadata": {
    "id": "EZuj8pl_9e9o"
   },
   "source": [
    "3. second Conolutional layer"
   ]
  },
  {
   "cell_type": "code",
   "execution_count": 8,
   "metadata": {
    "id": "fzVqpSX69erp"
   },
   "outputs": [],
   "source": [
    "cnn.add(tf.keras.layers.Conv2D(filters=32,kernel_size=3,activation='relu'))\n",
    "cnn.add(tf.keras.layers.MaxPool2D(pool_size=2,strides=2))"
   ]
  },
  {
   "cell_type": "markdown",
   "metadata": {
    "id": "zxUKWJSE9w_p"
   },
   "source": [
    "4. Flattening"
   ]
  },
  {
   "cell_type": "code",
   "execution_count": 9,
   "metadata": {
    "id": "hp5zh7El9woK"
   },
   "outputs": [],
   "source": [
    "cnn.add(tf.keras.layers.Flatten())"
   ]
  },
  {
   "cell_type": "markdown",
   "metadata": {
    "id": "IEkVDUEe9_Cp"
   },
   "source": [
    "5. Full-connection"
   ]
  },
  {
   "cell_type": "code",
   "execution_count": 10,
   "metadata": {
    "id": "n8OQyd5Y9-yP"
   },
   "outputs": [],
   "source": [
    "cnn.add(tf.keras.layers.Dense(units=128,activation='relu'))"
   ]
  },
  {
   "cell_type": "markdown",
   "metadata": {
    "id": "i1D0kE4b-iQM"
   },
   "source": [
    "6. Output layer"
   ]
  },
  {
   "cell_type": "code",
   "execution_count": 11,
   "metadata": {
    "id": "HOtojPwO-ht3"
   },
   "outputs": [],
   "source": [
    "cnn.add(tf.keras.layers.Dense(units=1,activation='sigmoid'))"
   ]
  },
  {
   "cell_type": "markdown",
   "metadata": {
    "id": "vSTWaysi-0MP"
   },
   "source": [
    "# Training CNN"
   ]
  },
  {
   "cell_type": "markdown",
   "metadata": {
    "id": "z3qpL4fK-7Yj"
   },
   "source": [
    "Compling CNN"
   ]
  },
  {
   "cell_type": "code",
   "execution_count": 12,
   "metadata": {
    "id": "xRnVBEJD-6zC"
   },
   "outputs": [],
   "source": [
    "cnn.compile(optimizer='adam',loss='binary_crossentropy',metrics=['accuracy'])"
   ]
  },
  {
   "cell_type": "markdown",
   "metadata": {
    "id": "JOF1SwA1_pU4"
   },
   "source": [
    "Training CNN on train set"
   ]
  },
  {
   "cell_type": "code",
   "execution_count": 15,
   "metadata": {
    "id": "HJbDHQKQ_oy-",
    "scrolled": false
   },
   "outputs": [
    {
     "name": "stdout",
     "output_type": "stream",
     "text": [
      "Epoch 1/25\n",
      "250/250 [==============================] - 117s 465ms/step - loss: 0.6648 - accuracy: 0.5857 - val_loss: 0.6015 - val_accuracy: 0.6835\n",
      "Epoch 2/25\n",
      "250/250 [==============================] - 65s 258ms/step - loss: 0.5949 - accuracy: 0.6839 - val_loss: 0.5905 - val_accuracy: 0.6850\n",
      "Epoch 3/25\n",
      "250/250 [==============================] - 60s 239ms/step - loss: 0.5518 - accuracy: 0.7126 - val_loss: 0.5446 - val_accuracy: 0.7240\n",
      "Epoch 4/25\n",
      "250/250 [==============================] - 60s 240ms/step - loss: 0.5221 - accuracy: 0.7366 - val_loss: 0.5420 - val_accuracy: 0.7325\n",
      "Epoch 5/25\n",
      "250/250 [==============================] - 61s 243ms/step - loss: 0.4972 - accuracy: 0.7516 - val_loss: 0.5266 - val_accuracy: 0.7265\n",
      "Epoch 6/25\n",
      "250/250 [==============================] - 60s 242ms/step - loss: 0.4882 - accuracy: 0.7625 - val_loss: 0.4882 - val_accuracy: 0.7670\n",
      "Epoch 7/25\n",
      "250/250 [==============================] - 61s 242ms/step - loss: 0.4593 - accuracy: 0.7819 - val_loss: 0.4825 - val_accuracy: 0.7670\n",
      "Epoch 8/25\n",
      "250/250 [==============================] - 64s 255ms/step - loss: 0.4445 - accuracy: 0.7899 - val_loss: 0.4610 - val_accuracy: 0.7810\n",
      "Epoch 9/25\n",
      "250/250 [==============================] - 68s 273ms/step - loss: 0.4331 - accuracy: 0.7976 - val_loss: 0.4631 - val_accuracy: 0.7835\n",
      "Epoch 10/25\n",
      "250/250 [==============================] - 59s 237ms/step - loss: 0.4203 - accuracy: 0.8083 - val_loss: 0.4788 - val_accuracy: 0.7765\n",
      "Epoch 11/25\n",
      "250/250 [==============================] - 68s 272ms/step - loss: 0.4069 - accuracy: 0.8129 - val_loss: 0.4561 - val_accuracy: 0.7885\n",
      "Epoch 12/25\n",
      "250/250 [==============================] - 70s 278ms/step - loss: 0.3927 - accuracy: 0.8205 - val_loss: 0.4708 - val_accuracy: 0.7805\n",
      "Epoch 13/25\n",
      "250/250 [==============================] - 72s 287ms/step - loss: 0.3871 - accuracy: 0.8221 - val_loss: 0.4634 - val_accuracy: 0.7775\n",
      "Epoch 14/25\n",
      "250/250 [==============================] - 60s 240ms/step - loss: 0.3698 - accuracy: 0.8326 - val_loss: 0.4750 - val_accuracy: 0.7900\n",
      "Epoch 15/25\n",
      "250/250 [==============================] - 60s 239ms/step - loss: 0.3563 - accuracy: 0.8388 - val_loss: 0.4665 - val_accuracy: 0.7925\n",
      "Epoch 16/25\n",
      "250/250 [==============================] - 61s 242ms/step - loss: 0.3421 - accuracy: 0.8485 - val_loss: 0.4710 - val_accuracy: 0.7905\n",
      "Epoch 17/25\n",
      "250/250 [==============================] - 60s 240ms/step - loss: 0.3410 - accuracy: 0.8471 - val_loss: 0.4685 - val_accuracy: 0.7960\n",
      "Epoch 18/25\n",
      "250/250 [==============================] - 66s 262ms/step - loss: 0.3259 - accuracy: 0.8566 - val_loss: 0.4795 - val_accuracy: 0.7900\n",
      "Epoch 19/25\n",
      "250/250 [==============================] - 61s 243ms/step - loss: 0.3169 - accuracy: 0.8644 - val_loss: 0.5322 - val_accuracy: 0.7725\n",
      "Epoch 20/25\n",
      "250/250 [==============================] - 60s 239ms/step - loss: 0.3029 - accuracy: 0.8698 - val_loss: 0.5199 - val_accuracy: 0.7930\n",
      "Epoch 21/25\n",
      "250/250 [==============================] - 60s 241ms/step - loss: 0.2860 - accuracy: 0.8794 - val_loss: 0.5014 - val_accuracy: 0.7895\n",
      "Epoch 22/25\n",
      "250/250 [==============================] - 65s 261ms/step - loss: 0.2873 - accuracy: 0.8763 - val_loss: 0.4891 - val_accuracy: 0.7920\n",
      "Epoch 23/25\n",
      "250/250 [==============================] - 66s 265ms/step - loss: 0.2729 - accuracy: 0.8817 - val_loss: 0.4856 - val_accuracy: 0.7855\n",
      "Epoch 24/25\n",
      "250/250 [==============================] - 63s 253ms/step - loss: 0.2609 - accuracy: 0.8842 - val_loss: 0.5068 - val_accuracy: 0.7960\n",
      "Epoch 25/25\n",
      "250/250 [==============================] - 63s 253ms/step - loss: 0.2487 - accuracy: 0.8926 - val_loss: 0.5068 - val_accuracy: 0.7970\n"
     ]
    },
    {
     "data": {
      "text/plain": [
       "<keras.callbacks.History at 0x23eb26c8940>"
      ]
     },
     "execution_count": 15,
     "metadata": {},
     "output_type": "execute_result"
    }
   ],
   "source": [
    "cnn.fit(x=training_set,validation_data=test_set,epochs=25)"
   ]
  },
  {
   "cell_type": "markdown",
   "metadata": {
    "id": "QCp63FWCBPBW"
   },
   "source": []
  },
  {
   "cell_type": "code",
   "execution_count": 26,
   "metadata": {
    "id": "Ce-QoGdu-z9O"
   },
   "outputs": [
    {
     "name": "stdout",
     "output_type": "stream",
     "text": [
      "dog\n"
     ]
    }
   ],
   "source": [
    "\n",
    "testimage=image.load_img(\n",
    "    'dataset\\single_prediction\\cat_or_dog_4.jpg',\n",
    "    color_mode='rgb',\n",
    "    target_size=(64,64)\n",
    ")\n",
    "testimage=image.img_to_array(testimage)\n",
    "testimage=np.expand_dims(testimage,axis=0)# adding an extra dimension for batch as cnn takes data in batch of array\n",
    "result=cnn.predict(testimage)\n",
    "training_set.class_indices\n",
    "if(result[0][0]==1):#result has batch dimesnsion and it has only one prediction\n",
    "  print('dog')\n",
    "else:\n",
    "  print('cat')"
   ]
  },
  {
   "cell_type": "code",
   "execution_count": null,
   "metadata": {},
   "outputs": [],
   "source": []
  },
  {
   "cell_type": "code",
   "execution_count": null,
   "metadata": {},
   "outputs": [],
   "source": []
  }
 ],
 "metadata": {
  "colab": {
   "collapsed_sections": [],
   "name": "Convolutional_neural_network.ipynb",
   "provenance": []
  },
  "kernelspec": {
   "display_name": "Python 3 (ipykernel)",
   "language": "python",
   "name": "python3"
  },
  "language_info": {
   "codemirror_mode": {
    "name": "ipython",
    "version": 3
   },
   "file_extension": ".py",
   "mimetype": "text/x-python",
   "name": "python",
   "nbconvert_exporter": "python",
   "pygments_lexer": "ipython3",
   "version": "3.9.7"
  }
 },
 "nbformat": 4,
 "nbformat_minor": 1
}
